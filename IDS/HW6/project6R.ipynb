{
  "nbformat": 4,
  "nbformat_minor": 0,
  "metadata": {
    "colab": {
      "name": "project6R.ipynb",
      "provenance": []
    },
    "kernelspec": {
      "name": "ir",
      "display_name": "R"
    },
    "language_info": {
      "name": "R"
    }
  },
  "cells": [
    {
      "cell_type": "code",
      "execution_count": 160,
      "metadata": {
        "id": "5PAzJUmTaA5p",
        "colab": {
          "base_uri": "https://localhost:8080/",
          "height": 1000
        },
        "outputId": "aa1c1b25-a51f-4426-f8f2-8fbce71be3b0"
      },
      "outputs": [
        {
          "output_type": "stream",
          "name": "stderr",
          "text": [
            "Installing package into ‘/usr/local/lib/R/site-library’\n",
            "(as ‘lib’ is unspecified)\n",
            "\n"
          ]
        },
        {
          "output_type": "display_data",
          "data": {
            "text/html": [
              "<table class=\"dataframe\">\n",
              "<caption>A spec_tbl_df: 49698 × 5</caption>\n",
              "<thead>\n",
              "\t<tr><th scope=col>Approval</th><th scope=col>Debt-to-Income Ratio</th><th scope=col>FICO Score</th><th scope=col>Request Amount</th><th scope=col>Interest</th></tr>\n",
              "\t<tr><th scope=col>&lt;lgl&gt;</th><th scope=col>&lt;dbl&gt;</th><th scope=col>&lt;dbl&gt;</th><th scope=col>&lt;dbl&gt;</th><th scope=col>&lt;dbl&gt;</th></tr>\n",
              "</thead>\n",
              "<tbody>\n",
              "\t<tr><td>FALSE</td><td>0</td><td>413</td><td> 2000</td><td>  900</td></tr>\n",
              "\t<tr><td>FALSE</td><td>0</td><td>449</td><td> 1000</td><td>  450</td></tr>\n",
              "\t<tr><td>FALSE</td><td>0</td><td>454</td><td> 6000</td><td> 2700</td></tr>\n",
              "\t<tr><td>FALSE</td><td>0</td><td>456</td><td> 1000</td><td>  450</td></tr>\n",
              "\t<tr><td>FALSE</td><td>0</td><td>457</td><td> 1000</td><td>  450</td></tr>\n",
              "\t<tr><td>FALSE</td><td>0</td><td>457</td><td> 8000</td><td> 3600</td></tr>\n",
              "\t<tr><td>FALSE</td><td>0</td><td>459</td><td> 8000</td><td> 3600</td></tr>\n",
              "\t<tr><td>FALSE</td><td>0</td><td>461</td><td>  500</td><td>  225</td></tr>\n",
              "\t<tr><td>FALSE</td><td>0</td><td>461</td><td> 6000</td><td> 2700</td></tr>\n",
              "\t<tr><td>FALSE</td><td>0</td><td>462</td><td>19000</td><td> 8550</td></tr>\n",
              "\t<tr><td>FALSE</td><td>0</td><td>463</td><td> 5000</td><td> 2250</td></tr>\n",
              "\t<tr><td>FALSE</td><td>0</td><td>463</td><td>12000</td><td> 5400</td></tr>\n",
              "\t<tr><td>FALSE</td><td>0</td><td>463</td><td>21000</td><td> 9450</td></tr>\n",
              "\t<tr><td>FALSE</td><td>0</td><td>464</td><td> 4000</td><td> 1800</td></tr>\n",
              "\t<tr><td>FALSE</td><td>0</td><td>464</td><td>34000</td><td>15300</td></tr>\n",
              "\t<tr><td>FALSE</td><td>0</td><td>465</td><td> 2000</td><td>  900</td></tr>\n",
              "\t<tr><td>FALSE</td><td>0</td><td>468</td><td>34000</td><td>15300</td></tr>\n",
              "\t<tr><td>FALSE</td><td>0</td><td>469</td><td> 2000</td><td>  900</td></tr>\n",
              "\t<tr><td>FALSE</td><td>0</td><td>469</td><td>38000</td><td>17100</td></tr>\n",
              "\t<tr><td>FALSE</td><td>0</td><td>472</td><td> 3000</td><td> 1350</td></tr>\n",
              "\t<tr><td>FALSE</td><td>0</td><td>472</td><td> 6000</td><td> 2700</td></tr>\n",
              "\t<tr><td>FALSE</td><td>0</td><td>475</td><td> 2000</td><td>  900</td></tr>\n",
              "\t<tr><td>FALSE</td><td>0</td><td>475</td><td> 6000</td><td> 2700</td></tr>\n",
              "\t<tr><td>FALSE</td><td>0</td><td>476</td><td>  500</td><td>  225</td></tr>\n",
              "\t<tr><td>FALSE</td><td>0</td><td>478</td><td> 7000</td><td> 3150</td></tr>\n",
              "\t<tr><td>FALSE</td><td>0</td><td>479</td><td> 7000</td><td> 3150</td></tr>\n",
              "\t<tr><td>FALSE</td><td>0</td><td>480</td><td> 4000</td><td> 1800</td></tr>\n",
              "\t<tr><td>FALSE</td><td>0</td><td>480</td><td>15000</td><td> 6750</td></tr>\n",
              "\t<tr><td>FALSE</td><td>0</td><td>482</td><td> 2000</td><td>  900</td></tr>\n",
              "\t<tr><td>FALSE</td><td>0</td><td>483</td><td> 2000</td><td>  900</td></tr>\n",
              "\t<tr><td>⋮</td><td>⋮</td><td>⋮</td><td>⋮</td><td>⋮</td></tr>\n",
              "\t<tr><td>TRUE</td><td>0.36</td><td>674</td><td>16000</td><td> 7200</td></tr>\n",
              "\t<tr><td>TRUE</td><td>0.36</td><td>675</td><td>11000</td><td> 4950</td></tr>\n",
              "\t<tr><td>TRUE</td><td>0.36</td><td>675</td><td>27000</td><td>12150</td></tr>\n",
              "\t<tr><td>TRUE</td><td>0.36</td><td>676</td><td>19000</td><td> 8550</td></tr>\n",
              "\t<tr><td>TRUE</td><td>0.36</td><td>677</td><td>14000</td><td> 6300</td></tr>\n",
              "\t<tr><td>TRUE</td><td>0.36</td><td>685</td><td>12000</td><td> 5400</td></tr>\n",
              "\t<tr><td>TRUE</td><td>0.36</td><td>685</td><td>18000</td><td> 8100</td></tr>\n",
              "\t<tr><td>TRUE</td><td>0.36</td><td>686</td><td> 9000</td><td> 4050</td></tr>\n",
              "\t<tr><td>TRUE</td><td>0.36</td><td>687</td><td>13000</td><td> 5850</td></tr>\n",
              "\t<tr><td>TRUE</td><td>0.36</td><td>697</td><td>20000</td><td> 9000</td></tr>\n",
              "\t<tr><td>TRUE</td><td>0.36</td><td>700</td><td> 5000</td><td> 2250</td></tr>\n",
              "\t<tr><td>TRUE</td><td>0.36</td><td>705</td><td> 7000</td><td> 3150</td></tr>\n",
              "\t<tr><td>TRUE</td><td>0.36</td><td>706</td><td>10000</td><td> 4500</td></tr>\n",
              "\t<tr><td>TRUE</td><td>0.36</td><td>708</td><td>10000</td><td> 4500</td></tr>\n",
              "\t<tr><td>TRUE</td><td>0.36</td><td>708</td><td>19000</td><td> 8550</td></tr>\n",
              "\t<tr><td>TRUE</td><td>0.36</td><td>711</td><td> 4000</td><td> 1800</td></tr>\n",
              "\t<tr><td>TRUE</td><td>0.36</td><td>713</td><td>25000</td><td>11250</td></tr>\n",
              "\t<tr><td>TRUE</td><td>0.36</td><td>715</td><td> 6000</td><td> 2700</td></tr>\n",
              "\t<tr><td>TRUE</td><td>0.36</td><td>716</td><td>27000</td><td>12150</td></tr>\n",
              "\t<tr><td>TRUE</td><td>0.37</td><td>648</td><td>10000</td><td> 4500</td></tr>\n",
              "\t<tr><td>TRUE</td><td>0.37</td><td>677</td><td> 4000</td><td> 1800</td></tr>\n",
              "\t<tr><td>TRUE</td><td>0.37</td><td>678</td><td> 9000</td><td> 4050</td></tr>\n",
              "\t<tr><td>TRUE</td><td>0.37</td><td>681</td><td> 5000</td><td> 2250</td></tr>\n",
              "\t<tr><td>TRUE</td><td>0.37</td><td>684</td><td> 3000</td><td> 1350</td></tr>\n",
              "\t<tr><td>TRUE</td><td>0.37</td><td>697</td><td>14000</td><td> 6300</td></tr>\n",
              "\t<tr><td>TRUE</td><td>0.38</td><td>662</td><td>14000</td><td> 6300</td></tr>\n",
              "\t<tr><td>TRUE</td><td>0.38</td><td>664</td><td>16000</td><td> 7200</td></tr>\n",
              "\t<tr><td>TRUE</td><td>0.38</td><td>676</td><td> 4000</td><td> 1800</td></tr>\n",
              "\t<tr><td>TRUE</td><td>0.38</td><td>680</td><td> 6000</td><td> 2700</td></tr>\n",
              "\t<tr><td>TRUE</td><td>0.39</td><td>662</td><td>  500</td><td>  225</td></tr>\n",
              "</tbody>\n",
              "</table>\n"
            ],
            "text/markdown": "\nA spec_tbl_df: 49698 × 5\n\n| Approval &lt;lgl&gt; | Debt-to-Income Ratio &lt;dbl&gt; | FICO Score &lt;dbl&gt; | Request Amount &lt;dbl&gt; | Interest &lt;dbl&gt; |\n|---|---|---|---|---|\n| FALSE | 0 | 413 |  2000 |   900 |\n| FALSE | 0 | 449 |  1000 |   450 |\n| FALSE | 0 | 454 |  6000 |  2700 |\n| FALSE | 0 | 456 |  1000 |   450 |\n| FALSE | 0 | 457 |  1000 |   450 |\n| FALSE | 0 | 457 |  8000 |  3600 |\n| FALSE | 0 | 459 |  8000 |  3600 |\n| FALSE | 0 | 461 |   500 |   225 |\n| FALSE | 0 | 461 |  6000 |  2700 |\n| FALSE | 0 | 462 | 19000 |  8550 |\n| FALSE | 0 | 463 |  5000 |  2250 |\n| FALSE | 0 | 463 | 12000 |  5400 |\n| FALSE | 0 | 463 | 21000 |  9450 |\n| FALSE | 0 | 464 |  4000 |  1800 |\n| FALSE | 0 | 464 | 34000 | 15300 |\n| FALSE | 0 | 465 |  2000 |   900 |\n| FALSE | 0 | 468 | 34000 | 15300 |\n| FALSE | 0 | 469 |  2000 |   900 |\n| FALSE | 0 | 469 | 38000 | 17100 |\n| FALSE | 0 | 472 |  3000 |  1350 |\n| FALSE | 0 | 472 |  6000 |  2700 |\n| FALSE | 0 | 475 |  2000 |   900 |\n| FALSE | 0 | 475 |  6000 |  2700 |\n| FALSE | 0 | 476 |   500 |   225 |\n| FALSE | 0 | 478 |  7000 |  3150 |\n| FALSE | 0 | 479 |  7000 |  3150 |\n| FALSE | 0 | 480 |  4000 |  1800 |\n| FALSE | 0 | 480 | 15000 |  6750 |\n| FALSE | 0 | 482 |  2000 |   900 |\n| FALSE | 0 | 483 |  2000 |   900 |\n| ⋮ | ⋮ | ⋮ | ⋮ | ⋮ |\n| TRUE | 0.36 | 674 | 16000 |  7200 |\n| TRUE | 0.36 | 675 | 11000 |  4950 |\n| TRUE | 0.36 | 675 | 27000 | 12150 |\n| TRUE | 0.36 | 676 | 19000 |  8550 |\n| TRUE | 0.36 | 677 | 14000 |  6300 |\n| TRUE | 0.36 | 685 | 12000 |  5400 |\n| TRUE | 0.36 | 685 | 18000 |  8100 |\n| TRUE | 0.36 | 686 |  9000 |  4050 |\n| TRUE | 0.36 | 687 | 13000 |  5850 |\n| TRUE | 0.36 | 697 | 20000 |  9000 |\n| TRUE | 0.36 | 700 |  5000 |  2250 |\n| TRUE | 0.36 | 705 |  7000 |  3150 |\n| TRUE | 0.36 | 706 | 10000 |  4500 |\n| TRUE | 0.36 | 708 | 10000 |  4500 |\n| TRUE | 0.36 | 708 | 19000 |  8550 |\n| TRUE | 0.36 | 711 |  4000 |  1800 |\n| TRUE | 0.36 | 713 | 25000 | 11250 |\n| TRUE | 0.36 | 715 |  6000 |  2700 |\n| TRUE | 0.36 | 716 | 27000 | 12150 |\n| TRUE | 0.37 | 648 | 10000 |  4500 |\n| TRUE | 0.37 | 677 |  4000 |  1800 |\n| TRUE | 0.37 | 678 |  9000 |  4050 |\n| TRUE | 0.37 | 681 |  5000 |  2250 |\n| TRUE | 0.37 | 684 |  3000 |  1350 |\n| TRUE | 0.37 | 697 | 14000 |  6300 |\n| TRUE | 0.38 | 662 | 14000 |  6300 |\n| TRUE | 0.38 | 664 | 16000 |  7200 |\n| TRUE | 0.38 | 676 |  4000 |  1800 |\n| TRUE | 0.38 | 680 |  6000 |  2700 |\n| TRUE | 0.39 | 662 |   500 |   225 |\n\n",
            "text/latex": "A spec\\_tbl\\_df: 49698 × 5\n\\begin{tabular}{lllll}\n Approval & Debt-to-Income Ratio & FICO Score & Request Amount & Interest\\\\\n <lgl> & <dbl> & <dbl> & <dbl> & <dbl>\\\\\n\\hline\n\t FALSE & 0 & 413 &  2000 &   900\\\\\n\t FALSE & 0 & 449 &  1000 &   450\\\\\n\t FALSE & 0 & 454 &  6000 &  2700\\\\\n\t FALSE & 0 & 456 &  1000 &   450\\\\\n\t FALSE & 0 & 457 &  1000 &   450\\\\\n\t FALSE & 0 & 457 &  8000 &  3600\\\\\n\t FALSE & 0 & 459 &  8000 &  3600\\\\\n\t FALSE & 0 & 461 &   500 &   225\\\\\n\t FALSE & 0 & 461 &  6000 &  2700\\\\\n\t FALSE & 0 & 462 & 19000 &  8550\\\\\n\t FALSE & 0 & 463 &  5000 &  2250\\\\\n\t FALSE & 0 & 463 & 12000 &  5400\\\\\n\t FALSE & 0 & 463 & 21000 &  9450\\\\\n\t FALSE & 0 & 464 &  4000 &  1800\\\\\n\t FALSE & 0 & 464 & 34000 & 15300\\\\\n\t FALSE & 0 & 465 &  2000 &   900\\\\\n\t FALSE & 0 & 468 & 34000 & 15300\\\\\n\t FALSE & 0 & 469 &  2000 &   900\\\\\n\t FALSE & 0 & 469 & 38000 & 17100\\\\\n\t FALSE & 0 & 472 &  3000 &  1350\\\\\n\t FALSE & 0 & 472 &  6000 &  2700\\\\\n\t FALSE & 0 & 475 &  2000 &   900\\\\\n\t FALSE & 0 & 475 &  6000 &  2700\\\\\n\t FALSE & 0 & 476 &   500 &   225\\\\\n\t FALSE & 0 & 478 &  7000 &  3150\\\\\n\t FALSE & 0 & 479 &  7000 &  3150\\\\\n\t FALSE & 0 & 480 &  4000 &  1800\\\\\n\t FALSE & 0 & 480 & 15000 &  6750\\\\\n\t FALSE & 0 & 482 &  2000 &   900\\\\\n\t FALSE & 0 & 483 &  2000 &   900\\\\\n\t ⋮ & ⋮ & ⋮ & ⋮ & ⋮\\\\\n\t TRUE & 0.36 & 674 & 16000 &  7200\\\\\n\t TRUE & 0.36 & 675 & 11000 &  4950\\\\\n\t TRUE & 0.36 & 675 & 27000 & 12150\\\\\n\t TRUE & 0.36 & 676 & 19000 &  8550\\\\\n\t TRUE & 0.36 & 677 & 14000 &  6300\\\\\n\t TRUE & 0.36 & 685 & 12000 &  5400\\\\\n\t TRUE & 0.36 & 685 & 18000 &  8100\\\\\n\t TRUE & 0.36 & 686 &  9000 &  4050\\\\\n\t TRUE & 0.36 & 687 & 13000 &  5850\\\\\n\t TRUE & 0.36 & 697 & 20000 &  9000\\\\\n\t TRUE & 0.36 & 700 &  5000 &  2250\\\\\n\t TRUE & 0.36 & 705 &  7000 &  3150\\\\\n\t TRUE & 0.36 & 706 & 10000 &  4500\\\\\n\t TRUE & 0.36 & 708 & 10000 &  4500\\\\\n\t TRUE & 0.36 & 708 & 19000 &  8550\\\\\n\t TRUE & 0.36 & 711 &  4000 &  1800\\\\\n\t TRUE & 0.36 & 713 & 25000 & 11250\\\\\n\t TRUE & 0.36 & 715 &  6000 &  2700\\\\\n\t TRUE & 0.36 & 716 & 27000 & 12150\\\\\n\t TRUE & 0.37 & 648 & 10000 &  4500\\\\\n\t TRUE & 0.37 & 677 &  4000 &  1800\\\\\n\t TRUE & 0.37 & 678 &  9000 &  4050\\\\\n\t TRUE & 0.37 & 681 &  5000 &  2250\\\\\n\t TRUE & 0.37 & 684 &  3000 &  1350\\\\\n\t TRUE & 0.37 & 697 & 14000 &  6300\\\\\n\t TRUE & 0.38 & 662 & 14000 &  6300\\\\\n\t TRUE & 0.38 & 664 & 16000 &  7200\\\\\n\t TRUE & 0.38 & 676 &  4000 &  1800\\\\\n\t TRUE & 0.38 & 680 &  6000 &  2700\\\\\n\t TRUE & 0.39 & 662 &   500 &   225\\\\\n\\end{tabular}\n",
            "text/plain": [
              "      Approval Debt-to-Income Ratio FICO Score Request Amount Interest\n",
              "1     FALSE    0                    413         2000            900   \n",
              "2     FALSE    0                    449         1000            450   \n",
              "3     FALSE    0                    454         6000           2700   \n",
              "4     FALSE    0                    456         1000            450   \n",
              "5     FALSE    0                    457         1000            450   \n",
              "6     FALSE    0                    457         8000           3600   \n",
              "7     FALSE    0                    459         8000           3600   \n",
              "8     FALSE    0                    461          500            225   \n",
              "9     FALSE    0                    461         6000           2700   \n",
              "10    FALSE    0                    462        19000           8550   \n",
              "11    FALSE    0                    463         5000           2250   \n",
              "12    FALSE    0                    463        12000           5400   \n",
              "13    FALSE    0                    463        21000           9450   \n",
              "14    FALSE    0                    464         4000           1800   \n",
              "15    FALSE    0                    464        34000          15300   \n",
              "16    FALSE    0                    465         2000            900   \n",
              "17    FALSE    0                    468        34000          15300   \n",
              "18    FALSE    0                    469         2000            900   \n",
              "19    FALSE    0                    469        38000          17100   \n",
              "20    FALSE    0                    472         3000           1350   \n",
              "21    FALSE    0                    472         6000           2700   \n",
              "22    FALSE    0                    475         2000            900   \n",
              "23    FALSE    0                    475         6000           2700   \n",
              "24    FALSE    0                    476          500            225   \n",
              "25    FALSE    0                    478         7000           3150   \n",
              "26    FALSE    0                    479         7000           3150   \n",
              "27    FALSE    0                    480         4000           1800   \n",
              "28    FALSE    0                    480        15000           6750   \n",
              "29    FALSE    0                    482         2000            900   \n",
              "30    FALSE    0                    483         2000            900   \n",
              "⋮     ⋮        ⋮                    ⋮          ⋮              ⋮       \n",
              "49669 TRUE     0.36                 674        16000           7200   \n",
              "49670 TRUE     0.36                 675        11000           4950   \n",
              "49671 TRUE     0.36                 675        27000          12150   \n",
              "49672 TRUE     0.36                 676        19000           8550   \n",
              "49673 TRUE     0.36                 677        14000           6300   \n",
              "49674 TRUE     0.36                 685        12000           5400   \n",
              "49675 TRUE     0.36                 685        18000           8100   \n",
              "49676 TRUE     0.36                 686         9000           4050   \n",
              "49677 TRUE     0.36                 687        13000           5850   \n",
              "49678 TRUE     0.36                 697        20000           9000   \n",
              "49679 TRUE     0.36                 700         5000           2250   \n",
              "49680 TRUE     0.36                 705         7000           3150   \n",
              "49681 TRUE     0.36                 706        10000           4500   \n",
              "49682 TRUE     0.36                 708        10000           4500   \n",
              "49683 TRUE     0.36                 708        19000           8550   \n",
              "49684 TRUE     0.36                 711         4000           1800   \n",
              "49685 TRUE     0.36                 713        25000          11250   \n",
              "49686 TRUE     0.36                 715         6000           2700   \n",
              "49687 TRUE     0.36                 716        27000          12150   \n",
              "49688 TRUE     0.37                 648        10000           4500   \n",
              "49689 TRUE     0.37                 677         4000           1800   \n",
              "49690 TRUE     0.37                 678         9000           4050   \n",
              "49691 TRUE     0.37                 681         5000           2250   \n",
              "49692 TRUE     0.37                 684         3000           1350   \n",
              "49693 TRUE     0.37                 697        14000           6300   \n",
              "49694 TRUE     0.38                 662        14000           6300   \n",
              "49695 TRUE     0.38                 664        16000           7200   \n",
              "49696 TRUE     0.38                 676         4000           1800   \n",
              "49697 TRUE     0.38                 680         6000           2700   \n",
              "49698 TRUE     0.39                 662          500            225   "
            ]
          },
          "metadata": {}
        }
      ],
      "source": [
        "# Let's read in the data file lans test\n",
        "#install.packages('rpart')\n",
        "install.packages(\"rpart\",repos=\"http://cran.rstudio.com/\")\n",
        "library(readr)\n",
        "loansTest <- read_csv(\"https://raw.githubusercontent.com/bforoura/IDS/main/HW6/Loans_Test.csv\", show_col_types = FALSE)\n",
        "\n",
        "loansTraining <- read_csv(\"https://raw.githubusercontent.com/bforoura/IDS/main/HW6/Loans_Training.csv\", show_col_types = FALSE)\n",
        "\n",
        "loansTest"
      ]
    },
    {
      "cell_type": "code",
      "source": [
        "install.packages(\"caret\")\n",
        "library(caret)"
      ],
      "metadata": {
        "colab": {
          "base_uri": "https://localhost:8080/"
        },
        "id": "9XvFaHmPmJqe",
        "outputId": "ec6d8b12-0a08-4912-bcf2-a5f637b8408b"
      },
      "execution_count": 161,
      "outputs": [
        {
          "output_type": "stream",
          "name": "stderr",
          "text": [
            "Installing package into ‘/usr/local/lib/R/site-library’\n",
            "(as ‘lib’ is unspecified)\n",
            "\n"
          ]
        }
      ]
    },
    {
      "cell_type": "code",
      "source": [
        "install.packages(\"rpart.plot\")\n",
        "library(rpart.plot)"
      ],
      "metadata": {
        "colab": {
          "base_uri": "https://localhost:8080/"
        },
        "id": "ykNIU2eDLt8_",
        "outputId": "322a7460-bd48-487d-e51d-feb0580a34fe"
      },
      "execution_count": 162,
      "outputs": [
        {
          "output_type": "stream",
          "name": "stderr",
          "text": [
            "Installing package into ‘/usr/local/lib/R/site-library’\n",
            "(as ‘lib’ is unspecified)\n",
            "\n"
          ]
        }
      ]
    },
    {
      "cell_type": "code",
      "source": [
        "install.packages(\"rpart\",repos=\"http://cran.rstudio.com/\")"
      ],
      "metadata": {
        "colab": {
          "base_uri": "https://localhost:8080/"
        },
        "id": "_y-hdQljLjL7",
        "outputId": "b3637680-b0d9-4c84-e2b3-940a71a1a326"
      },
      "execution_count": 163,
      "outputs": [
        {
          "output_type": "stream",
          "name": "stderr",
          "text": [
            "Installing package into ‘/usr/local/lib/R/site-library’\n",
            "(as ‘lib’ is unspecified)\n",
            "\n"
          ]
        }
      ]
    },
    {
      "cell_type": "code",
      "source": [
        "library(rpart)"
      ],
      "metadata": {
        "id": "iKMy6aehMaiR"
      },
      "execution_count": 164,
      "outputs": []
    },
    {
      "cell_type": "code",
      "source": [
        "#here we want to key in on Approval \n",
        "#use the testing data\n",
        "loansTraining <- rpart(Approval~., data = loansTest, cp = 0.01)"
      ],
      "metadata": {
        "id": "o32eTq81MgA2"
      },
      "execution_count": 165,
      "outputs": []
    },
    {
      "cell_type": "code",
      "source": [
        "printcp(loansTraining)"
      ],
      "metadata": {
        "colab": {
          "base_uri": "https://localhost:8080/"
        },
        "id": "ZVwWoHJPNSI5",
        "outputId": "cd289dd9-f6a5-487a-c7b8-271397f18e3b"
      },
      "execution_count": 166,
      "outputs": [
        {
          "output_type": "stream",
          "name": "stdout",
          "text": [
            "\n",
            "Regression tree:\n",
            "rpart(formula = Approval ~ ., data = loansTest, cp = 0.01)\n",
            "\n",
            "Variables actually used in tree construction:\n",
            "[1] Debt-to-Income Ratio FICO Score           Request Amount      \n",
            "\n",
            "Root node error: 12424/49698 = 0.25\n",
            "\n",
            "n= 49698 \n",
            "\n",
            "        CP nsplit rel error  xerror       xstd\n",
            "1 0.368645      0   1.00000 1.00004 3.3491e-05\n",
            "2 0.128061      1   0.63135 0.63394 3.6006e-03\n",
            "3 0.014174      2   0.50329 0.50748 4.1290e-03\n",
            "4 0.010181      3   0.48912 0.48672 4.0221e-03\n",
            "5 0.010000      4   0.47894 0.48382 3.9596e-03\n"
          ]
        }
      ]
    },
    {
      "cell_type": "code",
      "source": [
        "#https://rdrr.io/cran/rpart.plot/src/R/palette.R\n",
        "#https://www.rdocumentation.org/packages/rpart/versions/4.1.16/topics/rpart\n",
        "\n",
        "rpart.plot(loansTraining, box.palette = \"RdBu\", shadow.col = \"gray\", nn=TRUE)"
      ],
      "metadata": {
        "colab": {
          "base_uri": "https://localhost:8080/",
          "height": 437
        },
        "id": "NGIj-KlVNrOp",
        "outputId": "06b5927f-2b65-4772-8147-5cf2fbbfac84"
      },
      "execution_count": 167,
      "outputs": [
        {
          "output_type": "display_data",
          "data": {
            "text/plain": [
              "plot without title"
            ],
            "image/png": "[encoded data removed]"
          },
          "metadata": {
            "image/png": {
              "width": 420,
              "height": 420
            }
          }
        }
      ]
    },
    {
      "cell_type": "code",
      "source": [
        "#cart accuracy\n",
        "accuracy <- sum(cart_model_prediction == loansTest$Approval) / length(cart_model_prediction)\n",
        "cart_model_accuracy <- accuracy \n",
        "cat(\"test: \" , cart_model_accuracy)"
      ],
      "metadata": {
        "colab": {
          "base_uri": "https://localhost:8080/"
        },
        "id": "J_MXTdbjSz6P",
        "outputId": "f637f48a-f4ae-4874-f3ad-e5419d4bf96a"
      },
      "execution_count": 168,
      "outputs": [
        {
          "output_type": "stream",
          "name": "stdout",
          "text": [
            "test:  0.8438167"
          ]
        }
      ]
    },
    {
      "cell_type": "code",
      "source": [
        " install.packages(\"C50\")\n",
        " #install.packages(\"C50\", repos=\"http://R-Forge.R-project.org\") \n",
        " library(C50)"
      ],
      "metadata": {
        "colab": {
          "base_uri": "https://localhost:8080/"
        },
        "id": "n_FzeuCyWLFu",
        "outputId": "7127cb3e-7ab9-4acf-ec18-740bb830d9dd"
      },
      "execution_count": 182,
      "outputs": [
        {
          "output_type": "stream",
          "name": "stderr",
          "text": [
            "Installing package into ‘/usr/local/lib/R/site-library’\n",
            "(as ‘lib’ is unspecified)\n",
            "\n"
          ]
        }
      ]
    },
    {
      "cell_type": "code",
      "source": [
        "install.packages('party')\n",
        "install.packages(\"rpart.plot\")"
      ],
      "metadata": {
        "colab": {
          "base_uri": "https://localhost:8080/"
        },
        "id": "_FzX5LuikhUd",
        "outputId": "9896cfd3-9267-46cd-bd54-9e4d094e83d7"
      },
      "execution_count": 181,
      "outputs": [
        {
          "output_type": "stream",
          "name": "stderr",
          "text": [
            "Installing package into ‘/usr/local/lib/R/site-library’\n",
            "(as ‘lib’ is unspecified)\n",
            "\n",
            "Installing package into ‘/usr/local/lib/R/site-library’\n",
            "(as ‘lib’ is unspecified)\n",
            "\n"
          ]
        }
      ]
    },
    {
      "cell_type": "code",
      "source": [
        "library(party)\n"
      ],
      "metadata": {
        "id": "K_8ZrtmEt3oi"
      },
      "execution_count": 179,
      "outputs": []
    },
    {
      "cell_type": "code",
      "source": [
        "#set threshold at 1000\n",
        "#https://cran.r-project.org/web/packages/C50/C50.pdf\n",
        "#https://rpubs.com/cyobero/C50\n",
        "c5 <- C5.0(x = loansTraining[, -1], y = as.factor(loansTraining$Approval),\n",
        "             control=C5.0Control(minCases=1000))\n",
        "summary(c5)"
      ],
      "metadata": {
        "colab": {
          "base_uri": "https://localhost:8080/",
          "height": 148
        },
        "id": "1AFSDhU_uDlE",
        "outputId": "fa66f6b2-f888-49d8-dbe3-794ab2043bce"
      },
      "execution_count": 180,
      "outputs": [
        {
          "output_type": "error",
          "ename": "ERROR",
          "evalue": "ignored",
          "traceback": [
            "Error in loansTraining[, -1]: incorrect number of dimensions\nTraceback:\n",
            "1. C5.0(x = loansTraining[, -1], y = as.factor(loansTraining$Approval), \n .     control = C5.0Control(minCases = 1000))"
          ]
        }
      ]
    },
    {
      "cell_type": "code",
      "source": [
        "plot(c5)"
      ],
      "metadata": {
        "colab": {
          "base_uri": "https://localhost:8080/",
          "height": 200
        },
        "id": "p0vGaNxIZPLO",
        "outputId": "39d5e38b-edf4-4e4d-b26b-d6a14cba529e"
      },
      "execution_count": 176,
      "outputs": [
        {
          "output_type": "error",
          "ename": "ERROR",
          "evalue": "ignored",
          "traceback": [
            "Error in xy.coords(x, y, xlabel, ylabel, log): 'x' is a list, but does not have components 'x' and 'y'\nTraceback:\n",
            "1. plot(c5)",
            "2. plot(c5)",
            "3. plot.default(c5)",
            "4. xy.coords(x, y, xlabel, ylabel, log)",
            "5. stop(\"'x' is a list, but does not have components 'x' and 'y'\")"
          ]
        }
      ]
    },
    {
      "cell_type": "code",
      "source": [
        "c5prediction <-predict(c5,loansTest, type = \"class\")"
      ],
      "metadata": {
        "id": "7r3oK_yFyHFG"
      },
      "execution_count": 157,
      "outputs": []
    },
    {
      "cell_type": "code",
      "source": [
        "#c5 accuracy\n",
        "accuracy <- sum(c5prediction == loansTest$Approval) / length(c5prediction)\n",
        "cart_model_accuracy <- accuracy \n",
        "cat(\"test: \" , cart_model_accuracy)"
      ],
      "metadata": {
        "colab": {
          "base_uri": "https://localhost:8080/"
        },
        "id": "aELZvyrra8Zs",
        "outputId": "fe33e98c-36fa-42f5-87b5-0c6e39cd28e4"
      },
      "execution_count": 158,
      "outputs": [
        {
          "output_type": "stream",
          "name": "stdout",
          "text": [
            "test:  0.8471568"
          ]
        }
      ]
    },
    {
      "cell_type": "code",
      "source": [
        "#both of the models seem to have the same accuracy"
      ],
      "metadata": {
        "id": "jOZ2BFeQzYge"
      },
      "execution_count": null,
      "outputs": []
    }
  ]
}