{
  "nbformat": 4,
  "nbformat_minor": 0,
  "metadata": {
    "colab": {
      "name": "dataScienceProject3",
      "provenance": []
    },
    "kernelspec": {
      "name": "python3",
      "display_name": "Python 3"
    },
    "language_info": {
      "name": "python"
    }
  },
  "cells": [
    {
      "cell_type": "code",
      "source": [
        "import pandas as pd"
      ],
      "metadata": {
        "id": "8N4kTHFDEPTq"
      },
      "execution_count": null,
      "outputs": []
    },
    {
      "cell_type": "code",
      "source": [
        "from tabulate import tabulate"
      ],
      "metadata": {
        "id": "de8DMEZfEcuD"
      },
      "execution_count": null,
      "outputs": []
    },
    {
      "cell_type": "code",
      "source": [
        "pip install mysql-connector-python"
      ],
      "metadata": {
        "colab": {
          "base_uri": "https://localhost:8080/"
        },
        "id": "8shiOtQGFI_P",
        "outputId": "9548bdca-6d9d-4cd8-ce2a-217c78be8419"
      },
      "execution_count": null,
      "outputs": [
        {
          "output_type": "stream",
          "name": "stdout",
          "text": [
            "Collecting mysql-connector-python\n",
            "  Downloading mysql_connector_python-8.0.28-cp37-cp37m-manylinux1_x86_64.whl (37.6 MB)\n",
            "\u001b[K     |████████████████████████████████| 37.6 MB 13.6 MB/s \n",
            "\u001b[?25hRequirement already satisfied: protobuf>=3.0.0 in /usr/local/lib/python3.7/dist-packages (from mysql-connector-python) (3.17.3)\n",
            "Requirement already satisfied: six>=1.9 in /usr/local/lib/python3.7/dist-packages (from protobuf>=3.0.0->mysql-connector-python) (1.15.0)\n",
            "Installing collected packages: mysql-connector-python\n",
            "Successfully installed mysql-connector-python-8.0.28\n"
          ]
        }
      ]
    },
    {
      "cell_type": "code",
      "source": [
        "import mysql.connector as sql"
      ],
      "metadata": {
        "id": "uzlpg3VTFQ_Y"
      },
      "execution_count": null,
      "outputs": []
    },
    {
      "cell_type": "code",
      "source": [
        "# use the same credentials you use to connect to MySQL via Workbench\n",
        "\n",
        "db_connection = sql.connect(host='208.109.18.154', database='ids16db', user='ids16', password='Wky3401')\n",
        "db_cursor = db_connection.cursor()\n",
        "db_cursor.execute('SELECT * FROM LifeExpectancy')\n",
        "\n",
        "table_rows = db_cursor.fetchall()\n",
        "\n",
        "lifedf = pd.DataFrame(table_rows)\n",
        "\n",
        "#print(tabulate(lifeExpectDF, headers='keys', tablefmt='fancy_grid'))\n",
        "lifedf"
      ],
      "metadata": {
        "colab": {
          "base_uri": "https://localhost:8080/",
          "height": 655
        },
        "id": "Oep4YtKeFYjb",
        "outputId": "3b177fc8-3770-4618-ec01-b946511bebcd"
      },
      "execution_count": null,
      "outputs": [
        {
          "output_type": "execute_result",
          "data": {
            "text/html": [
              "\n",
              "  <div id=\"df-263c1972-ec79-40ac-9c3f-c87d5d6d585b\">\n",
              "    <div class=\"colab-df-container\">\n",
              "      <div>\n",
              "<style scoped>\n",
              "    .dataframe tbody tr th:only-of-type {\n",
              "        vertical-align: middle;\n",
              "    }\n",
              "\n",
              "    .dataframe tbody tr th {\n",
              "        vertical-align: top;\n",
              "    }\n",
              "\n",
              "    .dataframe thead th {\n",
              "        text-align: right;\n",
              "    }\n",
              "</style>\n",
              "<table border=\"1\" class=\"dataframe\">\n",
              "  <thead>\n",
              "    <tr style=\"text-align: right;\">\n",
              "      <th></th>\n",
              "      <th>0</th>\n",
              "      <th>1</th>\n",
              "      <th>2</th>\n",
              "      <th>3</th>\n",
              "      <th>4</th>\n",
              "      <th>5</th>\n",
              "      <th>6</th>\n",
              "      <th>7</th>\n",
              "      <th>8</th>\n",
              "      <th>9</th>\n",
              "      <th>10</th>\n",
              "    </tr>\n",
              "  </thead>\n",
              "  <tbody>\n",
              "    <tr>\n",
              "      <th>0</th>\n",
              "      <td>Afghanistan</td>\n",
              "      <td>2010</td>\n",
              "      <td>58.8</td>\n",
              "      <td>279</td>\n",
              "      <td>0.01</td>\n",
              "      <td>79.679367</td>\n",
              "      <td>16.7</td>\n",
              "      <td>9.20</td>\n",
              "      <td>553.328940</td>\n",
              "      <td>2883167</td>\n",
              "      <td>9.2</td>\n",
              "    </tr>\n",
              "    <tr>\n",
              "      <th>1</th>\n",
              "      <td>Afghanistan</td>\n",
              "      <td>2011</td>\n",
              "      <td>59.2</td>\n",
              "      <td>275</td>\n",
              "      <td>0.01</td>\n",
              "      <td>7.097109</td>\n",
              "      <td>17.2</td>\n",
              "      <td>7.87</td>\n",
              "      <td>63.537231</td>\n",
              "      <td>2978599</td>\n",
              "      <td>9.5</td>\n",
              "    </tr>\n",
              "    <tr>\n",
              "      <th>2</th>\n",
              "      <td>Afghanistan</td>\n",
              "      <td>2012</td>\n",
              "      <td>59.5</td>\n",
              "      <td>272</td>\n",
              "      <td>0.01</td>\n",
              "      <td>78.184215</td>\n",
              "      <td>17.6</td>\n",
              "      <td>8.52</td>\n",
              "      <td>669.959000</td>\n",
              "      <td>3696958</td>\n",
              "      <td>9.8</td>\n",
              "    </tr>\n",
              "    <tr>\n",
              "      <th>3</th>\n",
              "      <td>Afghanistan</td>\n",
              "      <td>2013</td>\n",
              "      <td>59.9</td>\n",
              "      <td>268</td>\n",
              "      <td>0.01</td>\n",
              "      <td>73.219243</td>\n",
              "      <td>18.1</td>\n",
              "      <td>8.13</td>\n",
              "      <td>631.744976</td>\n",
              "      <td>31731688</td>\n",
              "      <td>9.9</td>\n",
              "    </tr>\n",
              "    <tr>\n",
              "      <th>4</th>\n",
              "      <td>Afghanistan</td>\n",
              "      <td>2014</td>\n",
              "      <td>59.9</td>\n",
              "      <td>271</td>\n",
              "      <td>0.01</td>\n",
              "      <td>73.523582</td>\n",
              "      <td>18.6</td>\n",
              "      <td>8.18</td>\n",
              "      <td>612.696514</td>\n",
              "      <td>327582</td>\n",
              "      <td>10.0</td>\n",
              "    </tr>\n",
              "    <tr>\n",
              "      <th>...</th>\n",
              "      <td>...</td>\n",
              "      <td>...</td>\n",
              "      <td>...</td>\n",
              "      <td>...</td>\n",
              "      <td>...</td>\n",
              "      <td>...</td>\n",
              "      <td>...</td>\n",
              "      <td>...</td>\n",
              "      <td>...</td>\n",
              "      <td>...</td>\n",
              "      <td>...</td>\n",
              "    </tr>\n",
              "    <tr>\n",
              "      <th>709</th>\n",
              "      <td>Zimbabwe</td>\n",
              "      <td>2010</td>\n",
              "      <td>52.4</td>\n",
              "      <td>527</td>\n",
              "      <td>5.21</td>\n",
              "      <td>53.308581</td>\n",
              "      <td>29.4</td>\n",
              "      <td>5.37</td>\n",
              "      <td>713.635620</td>\n",
              "      <td>1486317</td>\n",
              "      <td>10.0</td>\n",
              "    </tr>\n",
              "    <tr>\n",
              "      <th>710</th>\n",
              "      <td>Zimbabwe</td>\n",
              "      <td>2011</td>\n",
              "      <td>54.9</td>\n",
              "      <td>464</td>\n",
              "      <td>6.00</td>\n",
              "      <td>63.750530</td>\n",
              "      <td>29.9</td>\n",
              "      <td>6.31</td>\n",
              "      <td>839.927936</td>\n",
              "      <td>14386649</td>\n",
              "      <td>10.1</td>\n",
              "    </tr>\n",
              "    <tr>\n",
              "      <th>711</th>\n",
              "      <td>Zimbabwe</td>\n",
              "      <td>2012</td>\n",
              "      <td>56.6</td>\n",
              "      <td>429</td>\n",
              "      <td>6.09</td>\n",
              "      <td>92.602336</td>\n",
              "      <td>3.3</td>\n",
              "      <td>6.69</td>\n",
              "      <td>955.648466</td>\n",
              "      <td>1471826</td>\n",
              "      <td>9.8</td>\n",
              "    </tr>\n",
              "    <tr>\n",
              "      <th>712</th>\n",
              "      <td>Zimbabwe</td>\n",
              "      <td>2013</td>\n",
              "      <td>58.0</td>\n",
              "      <td>399</td>\n",
              "      <td>6.39</td>\n",
              "      <td>10.666707</td>\n",
              "      <td>3.8</td>\n",
              "      <td>6.88</td>\n",
              "      <td>111.227396</td>\n",
              "      <td>155456</td>\n",
              "      <td>10.4</td>\n",
              "    </tr>\n",
              "    <tr>\n",
              "      <th>713</th>\n",
              "      <td>Zimbabwe</td>\n",
              "      <td>2014</td>\n",
              "      <td>59.2</td>\n",
              "      <td>371</td>\n",
              "      <td>6.50</td>\n",
              "      <td>10.822595</td>\n",
              "      <td>31.3</td>\n",
              "      <td>6.44</td>\n",
              "      <td>127.474620</td>\n",
              "      <td>15411675</td>\n",
              "      <td>10.3</td>\n",
              "    </tr>\n",
              "  </tbody>\n",
              "</table>\n",
              "<p>714 rows × 11 columns</p>\n",
              "</div>\n",
              "      <button class=\"colab-df-convert\" onclick=\"convertToInteractive('df-263c1972-ec79-40ac-9c3f-c87d5d6d585b')\"\n",
              "              title=\"Convert this dataframe to an interactive table.\"\n",
              "              style=\"display:none;\">\n",
              "        \n",
              "  <svg xmlns=\"http://www.w3.org/2000/svg\" height=\"24px\"viewBox=\"0 0 24 24\"\n",
              "       width=\"24px\">\n",
              "    <path d=\"M0 0h24v24H0V0z\" fill=\"none\"/>\n",
              "    <path d=\"M18.56 5.44l.94 2.06.94-2.06 2.06-.94-2.06-.94-.94-2.06-.94 2.06-2.06.94zm-11 1L8.5 8.5l.94-2.06 2.06-.94-2.06-.94L8.5 2.5l-.94 2.06-2.06.94zm10 10l.94 2.06.94-2.06 2.06-.94-2.06-.94-.94-2.06-.94 2.06-2.06.94z\"/><path d=\"M17.41 7.96l-1.37-1.37c-.4-.4-.92-.59-1.43-.59-.52 0-1.04.2-1.43.59L10.3 9.45l-7.72 7.72c-.78.78-.78 2.05 0 2.83L4 21.41c.39.39.9.59 1.41.59.51 0 1.02-.2 1.41-.59l7.78-7.78 2.81-2.81c.8-.78.8-2.07 0-2.86zM5.41 20L4 18.59l7.72-7.72 1.47 1.35L5.41 20z\"/>\n",
              "  </svg>\n",
              "      </button>\n",
              "      \n",
              "  <style>\n",
              "    .colab-df-container {\n",
              "      display:flex;\n",
              "      flex-wrap:wrap;\n",
              "      gap: 12px;\n",
              "    }\n",
              "\n",
              "    .colab-df-convert {\n",
              "      background-color: #E8F0FE;\n",
              "      border: none;\n",
              "      border-radius: 50%;\n",
              "      cursor: pointer;\n",
              "      display: none;\n",
              "      fill: #1967D2;\n",
              "      height: 32px;\n",
              "      padding: 0 0 0 0;\n",
              "      width: 32px;\n",
              "    }\n",
              "\n",
              "    .colab-df-convert:hover {\n",
              "      background-color: #E2EBFA;\n",
              "      box-shadow: 0px 1px 2px rgba(60, 64, 67, 0.3), 0px 1px 3px 1px rgba(60, 64, 67, 0.15);\n",
              "      fill: #174EA6;\n",
              "    }\n",
              "\n",
              "    [theme=dark] .colab-df-convert {\n",
              "      background-color: #3B4455;\n",
              "      fill: #D2E3FC;\n",
              "    }\n",
              "\n",
              "    [theme=dark] .colab-df-convert:hover {\n",
              "      background-color: #434B5C;\n",
              "      box-shadow: 0px 1px 3px 1px rgba(0, 0, 0, 0.15);\n",
              "      filter: drop-shadow(0px 1px 2px rgba(0, 0, 0, 0.3));\n",
              "      fill: #FFFFFF;\n",
              "    }\n",
              "  </style>\n",
              "\n",
              "      <script>\n",
              "        const buttonEl =\n",
              "          document.querySelector('#df-263c1972-ec79-40ac-9c3f-c87d5d6d585b button.colab-df-convert');\n",
              "        buttonEl.style.display =\n",
              "          google.colab.kernel.accessAllowed ? 'block' : 'none';\n",
              "\n",
              "        async function convertToInteractive(key) {\n",
              "          const element = document.querySelector('#df-263c1972-ec79-40ac-9c3f-c87d5d6d585b');\n",
              "          const dataTable =\n",
              "            await google.colab.kernel.invokeFunction('convertToInteractive',\n",
              "                                                     [key], {});\n",
              "          if (!dataTable) return;\n",
              "\n",
              "          const docLinkHtml = 'Like what you see? Visit the ' +\n",
              "            '<a target=\"_blank\" href=https://colab.research.google.com/notebooks/data_table.ipynb>data table notebook</a>'\n",
              "            + ' to learn more about interactive tables.';\n",
              "          element.innerHTML = '';\n",
              "          dataTable['output_type'] = 'display_data';\n",
              "          await google.colab.output.renderOutput(dataTable, element);\n",
              "          const docLink = document.createElement('div');\n",
              "          docLink.innerHTML = docLinkHtml;\n",
              "          element.appendChild(docLink);\n",
              "        }\n",
              "      </script>\n",
              "    </div>\n",
              "  </div>\n",
              "  "
            ],
            "text/plain": [
              "              0     1     2    3     4   ...    6     7           8         9     10\n",
              "0    Afghanistan  2010  58.8  279  0.01  ...  16.7  9.20  553.328940   2883167   9.2\n",
              "1    Afghanistan  2011  59.2  275  0.01  ...  17.2  7.87   63.537231   2978599   9.5\n",
              "2    Afghanistan  2012  59.5  272  0.01  ...  17.6  8.52  669.959000   3696958   9.8\n",
              "3    Afghanistan  2013  59.9  268  0.01  ...  18.1  8.13  631.744976  31731688   9.9\n",
              "4    Afghanistan  2014  59.9  271  0.01  ...  18.6  8.18  612.696514    327582  10.0\n",
              "..           ...   ...   ...  ...   ...  ...   ...   ...         ...       ...   ...\n",
              "709     Zimbabwe  2010  52.4  527  5.21  ...  29.4  5.37  713.635620   1486317  10.0\n",
              "710     Zimbabwe  2011  54.9  464  6.00  ...  29.9  6.31  839.927936  14386649  10.1\n",
              "711     Zimbabwe  2012  56.6  429  6.09  ...   3.3  6.69  955.648466   1471826   9.8\n",
              "712     Zimbabwe  2013  58.0  399  6.39  ...   3.8  6.88  111.227396    155456  10.4\n",
              "713     Zimbabwe  2014  59.2  371  6.50  ...  31.3  6.44  127.474620  15411675  10.3\n",
              "\n",
              "[714 rows x 11 columns]"
            ]
          },
          "metadata": {},
          "execution_count": 5
        }
      ]
    },
    {
      "cell_type": "code",
      "source": [
        ""
      ],
      "metadata": {
        "id": "DGj0CjYo4rcP"
      },
      "execution_count": null,
      "outputs": []
    },
    {
      "cell_type": "code",
      "source": [
        "from sklearn.linear_model import LinearRegression\n",
        "import numpy as np\n",
        "import matplotlib.pyplot as plt \n",
        "X=lifedf[2]\n",
        "Y=lifedf[10]\n",
        "# Visualize the dataset and the regression line:\n",
        "plt.scatter(X, Y)\n",
        "\n",
        "plt.show()\n",
        "#seems to be a large negative covaraince\n",
        "#this shows the correlation between 2 and 5 which means life expectancy and BMI"
      ],
      "metadata": {
        "colab": {
          "base_uri": "https://localhost:8080/",
          "height": 265
        },
        "id": "bo5_jV5c05SK",
        "outputId": "7d1a69cb-0811-403f-f07a-c53366747951"
      },
      "execution_count": null,
      "outputs": [
        {
          "output_type": "display_data",
          "data": {
            "image/png": "[encoded data removed]",
            "text/plain": [
              "<Figure size 432x288 with 1 Axes>"
            ]
          },
          "metadata": {
            "needs_background": "light"
          }
        }
      ]
    },
    {
      "cell_type": "code",
      "source": [
        "X=lifedf[2]\n",
        "Y=lifedf[7]\n",
        "# Visualize the dataset and the regression line:\n",
        "plt.scatter(X, Y)\n",
        "\n",
        "plt.show()\n",
        "#seems to be a large negative covaraince\n",
        "#this shows the correlation between 2 and 7 which means life expectancy and Alcohol"
      ],
      "metadata": {
        "colab": {
          "base_uri": "https://localhost:8080/",
          "height": 265
        },
        "id": "WMHPbyxHwGiT",
        "outputId": "031a5359-569d-41cc-caac-9778f75dc251"
      },
      "execution_count": null,
      "outputs": [
        {
          "output_type": "display_data",
          "data": {
            "image/png": "[encoded data removed]",
            "text/plain": [
              "<Figure size 432x288 with 1 Axes>"
            ]
          },
          "metadata": {
            "needs_background": "light"
          }
        }
      ]
    },
    {
      "cell_type": "code",
      "source": [
        "X=lifedf[2]\n",
        "Y=lifedf[3]\n",
        "# Visualize the dataset and the regression line:\n",
        "plt.scatter(X, Y)\n",
        "\n",
        "plt.show()\n",
        "#seems to be a large negative covaraince\n",
        "#this shows the correlation between 2 and 7 which means life expectancy and adult morality"
      ],
      "metadata": {
        "colab": {
          "base_uri": "https://localhost:8080/",
          "height": 265
        },
        "id": "p3wCFcGDyKBe",
        "outputId": "f04bdae4-5b85-4544-8ddd-ad71c6e09e33"
      },
      "execution_count": null,
      "outputs": [
        {
          "output_type": "display_data",
          "data": {
            "image/png": "[encoded data removed]",
            "text/plain": [
              "<Figure size 432x288 with 1 Axes>"
            ]
          },
          "metadata": {
            "needs_background": "light"
          }
        }
      ]
    }
  ]
}